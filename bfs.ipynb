{
 "cells": [
  {
   "cell_type": "code",
   "execution_count": null,
   "metadata": {},
   "outputs": [
    {
     "ename": "",
     "evalue": "",
     "output_type": "error",
     "traceback": [
      "\u001b[1;31mRunning cells with 'Python 3.10.5 64-bit' requires ipykernel package.\n",
      "\u001b[1;31mRun the following command to install 'ipykernel' into the Python environment. \n",
      "\u001b[1;31mCommand: '/bin/python3.10 -m pip install ipykernel -U --user --force-reinstall'"
     ]
    }
   ],
   "source": [
    "from collections import deque\n",
    "class Graph:\n",
    "    def __init__(self, directed):\n",
    "        self.edges={}\n",
    "        self.directed = directed\n",
    "    \n",
    "    def add_edge(self, node1, node2,_reversed=False):\n",
    "        try:\n",
    "            self.edges[node1].add(node2)\n",
    "        except KeyError:\n",
    "            self.edges[node1] = set()\n",
    "            self.edges[node1].add(node2)\n",
    "        if not self.directed and not _reversed:\n",
    "            self.add_edge(node2,node1,True)\n",
    "    \n",
    "    def add_edges(self, edges):\n",
    "        for edge in edges:\n",
    "            self.add_edge(edge[0],edge[1])\n",
    "\n",
    "    def neighbours(self, node):\n",
    "        try:\n",
    "            return self.edges[node]\n",
    "        except KeyError:\n",
    "            return []\n",
    "        \n",
    "    @staticmethod\n",
    "    def traceback_path(goal, predecessor):\n",
    "        current,path = goal,deque()\n",
    "        while True:\n",
    "            path.appendleft(current)\n",
    "            current = predecessor[current]\n",
    "            if current is None: break\n",
    "        return path\n",
    "    \n",
    "    def bfs(self, start, goal):\n",
    "        fringe = deque(start)\n",
    "        visited = {start}\n",
    "        predecessor = {start: None}\n",
    "        current = '-'\n",
    "        print(f\"{'Current Node':15} | {'Fringe'}\")\n",
    "        while fringe:\n",
    "            print(f\"{current:15} |\", *fringe)\n",
    "            current = fringe.pop()\n",
    "            if current == goal:\n",
    "                path =  Graph.traceback_path(goal,predecessor)\n",
    "                print(f\"Path: {' => '.join(path)}\") \n",
    "                return path\n",
    "            for x in self.neighbours(current):\n",
    "                if x not in visited:\n",
    "                    fringe.appendleft(x)\n",
    "                    visited.add(x)\n",
    "                    predecessor[x] = current\n",
    "\n",
    "if __name__ == \"__main__\":\n",
    "    g = Graph(directed = False)\n",
    "    g.add_edges([\n",
    "        (\"A\",\"B\"),(\"A\",\"S\"),(\"S\",\"G\"),(\"S\",\"C\"),(\"C\",\"F\"),\n",
    "        (\"G\",\"F\"),(\"C\",\"D\"),(\"C\",\"E\"),(\"E\",\"H\"),(\"G\",\"H\")\n",
    "    ])\n",
    "    start,goal = \"A\",\"H\"\n",
    "    g.bfs(start,goal) or print(\"No paths Found!\")\n",
    "    \n"
   ]
  },
  {
   "cell_type": "code",
   "execution_count": null,
   "metadata": {},
   "outputs": [],
   "source": []
  }
 ],
 "metadata": {
  "kernelspec": {
   "display_name": "Python 3.10.5 64-bit",
   "language": "python",
   "name": "python3"
  },
  "language_info": {
   "name": "python",
   "version": "3.10.5"
  },
  "orig_nbformat": 4,
  "vscode": {
   "interpreter": {
    "hash": "97cc609b13305c559618ec78a438abc56230b9381f827f22d070313b9a1f3777"
   }
  }
 },
 "nbformat": 4,
 "nbformat_minor": 2
}
